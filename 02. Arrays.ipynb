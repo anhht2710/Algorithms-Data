{
 "cells": [
  {
   "cell_type": "markdown",
   "id": "7259546b-569d-4475-943f-9c7c47e1ad11",
   "metadata": {},
   "source": [
    "### 1. Two sum (leetcode)\n",
    "\n",
    "Given an array of integers `nums` and an integer `target`, return *indices* of the two numbers such that they add up to `target`.\n",
    "\n",
    "You may assume that each input would have **exactly one solution**, and you may not use the same element twice.\n",
    "\n",
    "You can return the answer in any order.\n",
    "\n",
    "**Example 1**:\\\n",
    "Input: nums = [2,7,11,15], target = 9 \\\n",
    "Output: [0,1] \\\n",
    "Explanation: Because nums[0] + nums[1] == 9, we return [0, 1].\n",
    "\n",
    "**Example 2**:\\\n",
    "Input: nums = [3,2,4], target = 6 \\\n",
    "Output: [1,2]\n",
    "\n",
    "**Example 3**:\\\n",
    "Input: nums = [3,3], target = 6\\\n",
    "Output: [0,1]\n"
   ]
  },
  {
   "cell_type": "code",
   "execution_count": 13,
   "id": "48c20b50-f189-4e1c-aafd-af976936fc84",
   "metadata": {},
   "outputs": [],
   "source": [
    "from typing import List\n",
    "\n",
    "class Solution:\n",
    "    def twoSum(self, nums: List[int], target: int) -> List[int]:\n",
    "        for i in range(len(nums)):\n",
    "            for j in range(i + 1, len(nums)):\n",
    "                if nums[i] + nums[j] == target:\n",
    "                    return [i, j]"
   ]
  },
  {
   "cell_type": "code",
   "execution_count": 21,
   "id": "afe327a2-1ddd-47f6-8774-b647129f41b7",
   "metadata": {},
   "outputs": [
    {
     "name": "stdout",
     "output_type": "stream",
     "text": [
      "[0, 1]\n",
      "[1, 2]\n",
      "[0, 1]\n"
     ]
    }
   ],
   "source": [
    "# Example usage:\n",
    "solution = Solution()\n",
    "print(solution.twoSum([2, 7, 11, 15], 9))\n",
    "print(solution.twoSum([3, 2, 4], 6))\n",
    "print(solution.twoSum([3,3], 6))"
   ]
  },
  {
   "cell_type": "markdown",
   "id": "673c610c-3021-4249-81b3-31c6c1e0bce1",
   "metadata": {},
   "source": [
    "### 2. Three sum (medium leetcode)\n",
    "Given an integer array nums, return all the triplets `[nums[i], nums[j], nums[k]]` such that `i != j`, `i != k`, and `j != k`, and `nums[i] + nums[j] + nums[k] == 0`.\n",
    "\n",
    "Notice that the solution set must not contain duplicate triplets.\n",
    "\n",
    "**Example 1**:\\\n",
    "Input: nums = [-1,0,1,2,-1,-4]\\\n",
    "Output: [[-1,-1,2],[-1,0,1]]\\\n",
    "Explanation: \\\n",
    "nums[0] + nums[1] + nums[2] = (-1) + 0 + 1 = 0.\\\n",
    "nums[1] + nums[2] + nums[4] = 0 + 1 + (-1) = 0.\\\n",
    "nums[0] + nums[3] + nums[4] = (-1) + 2 + (-1) = 0.\\\n",
    "The distinct triplets are [-1,0,1] and [-1,-1,2].\\\n",
    "Notice that the order of the output and the order of the triplets does not matter.\\\n",
    "\n",
    "**Example 2**:\\\n",
    "Input: nums = [0,1,1]\\\n",
    "Output: []\\\n",
    "Explanation: The only possible triplet does not sum up to 0.\\\n",
    "\n",
    "**Example 3**:\\\n",
    "Input: nums = [0,0,0]\\\n",
    "Output: [[0,0,0]]\\\n",
    "Explanation: The only possible triplet sums up to 0.\\\n"
   ]
  },
  {
   "cell_type": "code",
   "execution_count": 37,
   "id": "ddd1bdfa-361c-4756-9e5e-5409bad3ace8",
   "metadata": {},
   "outputs": [
    {
     "name": "stdout",
     "output_type": "stream",
     "text": [
      "[[-1, -1, 2], [-1, 0, 1]]\n",
      "[]\n",
      "[[0, 0, 0]]\n"
     ]
    }
   ],
   "source": [
    "class Solution:\n",
    "    def threeSum(self, nums: List[int]) -> List[List[int]]:\n",
    "\n",
    "    # Sort the array to make it easier to find triplets\n",
    "        nums.sort() # Sort the array\n",
    "        result = []\n",
    "        n = len(nums)\n",
    "        \n",
    "        for i in range(n - 2):\n",
    "            # Skip duplicate elements to avoid redundant triplets\n",
    "            if i > 0 and nums[i] == nums[i - 1]:\n",
    "                continue\n",
    "            \n",
    "            # Initialize two pointers\n",
    "            left, right = i + 1, n - 1\n",
    "            \n",
    "            while left < right:\n",
    "                total = nums[i] + nums[left] + nums[right]\n",
    "                \n",
    "                if total < 0:\n",
    "                    left += 1  # Move the left pointer to the right\n",
    "                elif total > 0:\n",
    "                    right -= 1 # Move the right pointer to the left\n",
    "                \n",
    "                else:\n",
    "                    # Found a triplet\n",
    "                    result.append([nums[i], nums[left], nums[right]])\n",
    "                    \n",
    "                    # Skip duplicates for the second and third elements\n",
    "                    while left < right and nums[left] == nums[left + 1]:\n",
    "                        left += 1\n",
    "                    while left < right and nums[right] == nums[right - 1]:\n",
    "                        right -= 1\n",
    "                    \n",
    "                    # Move both pointers\n",
    "                    left += 1 \n",
    "                    right -= 1\n",
    "        \n",
    "        return result\n",
    "\n",
    "solution = Solution()\n",
    "print(solution.threeSum([-1, 0, 1, 2, -1, -4]))  \n",
    "print(solution.threeSum([0, 1, 1]))  \n",
    "print(solution.threeSum([0, 0, 0]))"
   ]
  },
  {
   "cell_type": "code",
   "execution_count": null,
   "id": "d8f71201-6ea7-4d8e-a985-dd58ad50ff5f",
   "metadata": {},
   "outputs": [],
   "source": []
  }
 ],
 "metadata": {
  "kernelspec": {
   "display_name": "Python 3 (ipykernel)",
   "language": "python",
   "name": "python3"
  },
  "language_info": {
   "codemirror_mode": {
    "name": "ipython",
    "version": 3
   },
   "file_extension": ".py",
   "mimetype": "text/x-python",
   "name": "python",
   "nbconvert_exporter": "python",
   "pygments_lexer": "ipython3",
   "version": "3.12.4"
  }
 },
 "nbformat": 4,
 "nbformat_minor": 5
}
