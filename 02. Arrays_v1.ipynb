{
 "cells": [
  {
   "cell_type": "markdown",
   "id": "7259546b-569d-4475-943f-9c7c47e1ad11",
   "metadata": {},
   "source": [
    "### 1. Two sum (leetcode)\n",
    "\n",
    "Given an array of integers `nums` and an integer `target`, return *indices* of the two numbers such that they add up to `target`.\n",
    "\n",
    "You may assume that each input would have **exactly one solution**, and you may not use the same element twice.\n",
    "\n",
    "You can return the answer in any order.\n",
    "\n",
    "**Example 1**:\\\n",
    "Input: nums = [2,7,11,15], target = 9 \\\n",
    "Output: [0,1] \\\n",
    "Explanation: Because nums[0] + nums[1] == 9, we return [0, 1].\n",
    "\n",
    "**Example 2**:\\\n",
    "Input: nums = [3,2,4], target = 6 \\\n",
    "Output: [1,2]\n",
    "\n",
    "**Example 3**:\\\n",
    "Input: nums = [3,3], target = 6\\\n",
    "Output: [0,1]\n"
   ]
  },
  {
   "cell_type": "code",
   "execution_count": 13,
   "id": "48c20b50-f189-4e1c-aafd-af976936fc84",
   "metadata": {},
   "outputs": [],
   "source": [
    "from typing import List\n",
    "\n",
    "class Solution:\n",
    "    def twoSum(self, nums: List[int], target: int) -> List[int]:\n",
    "        for i in range(len(nums)):\n",
    "            for j in range(i + 1, len(nums)):\n",
    "                if nums[i] + nums[j] == target:\n",
    "                    return [i, j]"
   ]
  },
  {
   "cell_type": "code",
   "execution_count": 21,
   "id": "afe327a2-1ddd-47f6-8774-b647129f41b7",
   "metadata": {},
   "outputs": [
    {
     "name": "stdout",
     "output_type": "stream",
     "text": [
      "[0, 1]\n",
      "[1, 2]\n",
      "[0, 1]\n"
     ]
    }
   ],
   "source": [
    "# Example usage:\n",
    "solution = Solution()\n",
    "print(solution.twoSum([2, 7, 11, 15], 9))\n",
    "print(solution.twoSum([3, 2, 4], 6))\n",
    "print(solution.twoSum([3,3], 6))"
   ]
  },
  {
   "cell_type": "markdown",
   "id": "673c610c-3021-4249-81b3-31c6c1e0bce1",
   "metadata": {},
   "source": [
    "### 2. Three sum (medium leetcode)\n",
    "Given an integer array nums, return all the triplets `[nums[i], nums[j], nums[k]]` such that `i != j`, `i != k`, and `j != k`, and `nums[i] + nums[j] + nums[k] == 0`.\n",
    "\n",
    "Notice that the solution set must not contain duplicate triplets.\n",
    "\n",
    "**Example 1**:\\\n",
    "Input: nums = [-1,0,1,2,-1,-4]\\\n",
    "Output: [[-1,-1,2],[-1,0,1]]\\\n",
    "Explanation: \\\n",
    "nums[0] + nums[1] + nums[2] = (-1) + 0 + 1 = 0.\\\n",
    "nums[1] + nums[2] + nums[4] = 0 + 1 + (-1) = 0.\\\n",
    "nums[0] + nums[3] + nums[4] = (-1) + 2 + (-1) = 0.\\\n",
    "The distinct triplets are [-1,0,1] and [-1,-1,2].\\\n",
    "Notice that the order of the output and the order of the triplets does not matter.\\\n",
    "\n",
    "**Example 2**:\\\n",
    "Input: nums = [0,1,1]\\\n",
    "Output: []\\\n",
    "Explanation: The only possible triplet does not sum up to 0.\\\n",
    "\n",
    "**Example 3**:\\\n",
    "Input: nums = [0,0,0]\\\n",
    "Output: [[0,0,0]]\\\n",
    "Explanation: The only possible triplet sums up to 0.\\\n"
   ]
  },
  {
   "cell_type": "code",
   "execution_count": 37,
   "id": "ddd1bdfa-361c-4756-9e5e-5409bad3ace8",
   "metadata": {},
   "outputs": [
    {
     "name": "stdout",
     "output_type": "stream",
     "text": [
      "[[-1, -1, 2], [-1, 0, 1]]\n",
      "[]\n",
      "[[0, 0, 0]]\n"
     ]
    }
   ],
   "source": [
    "class Solution:\n",
    "    def threeSum(self, nums: List[int]) -> List[List[int]]:\n",
    "\n",
    "    # Sort the array to make it easier to find triplets\n",
    "        nums.sort() # Sort the array\n",
    "        result = []\n",
    "        n = len(nums)\n",
    "        \n",
    "        for i in range(n - 2):\n",
    "            # Skip duplicate elements to avoid redundant triplets\n",
    "            if i > 0 and nums[i] == nums[i - 1]:\n",
    "                continue\n",
    "            \n",
    "            # Initialize two pointers\n",
    "            left, right = i + 1, n - 1\n",
    "            \n",
    "            while left < right:\n",
    "                total = nums[i] + nums[left] + nums[right]\n",
    "                \n",
    "                if total < 0:\n",
    "                    left += 1  # Move the left pointer to the right\n",
    "                elif total > 0:\n",
    "                    right -= 1 # Move the right pointer to the left\n",
    "                \n",
    "                else:\n",
    "                    # Found a triplet\n",
    "                    result.append([nums[i], nums[left], nums[right]])\n",
    "                    \n",
    "                    # Skip duplicates for the second and third elements\n",
    "                    while left < right and nums[left] == nums[left + 1]:\n",
    "                        left += 1\n",
    "                    while left < right and nums[right] == nums[right - 1]:\n",
    "                        right -= 1\n",
    "                    \n",
    "                    # Move both pointers\n",
    "                    left += 1 \n",
    "                    right -= 1\n",
    "        \n",
    "        return result\n",
    "\n",
    "solution = Solution()\n",
    "print(solution.threeSum([-1, 0, 1, 2, -1, -4]))  \n",
    "print(solution.threeSum([0, 1, 1]))  \n",
    "print(solution.threeSum([0, 0, 0]))"
   ]
  },
  {
   "cell_type": "markdown",
   "id": "82dc82ab-3d29-4b6c-93ba-7adb7d7b7f52",
   "metadata": {},
   "source": [
    "### 3. Max Consecutive Ones III (medium leetcode)\n",
    "\n",
    "Given a binary array `nums` and an integer `k`, return the maximum number of consecutive `1`'s in the array if you can flip at most `k` `0`'s.\n",
    "\n",
    " \n",
    "\n",
    "**Example 1**:\\\n",
    "Input: nums = [1,1,1,0,0,0,1,1,1,1,0], k = 2\\\n",
    "Output: 6\\\n",
    "Explanation: [1,1,1,0,0,**1**,1,1,1,1,**1**]\\\n",
    "Bolded numbers were flipped from 0 to 1.\\ \n",
    "**Example 2**:\\\n",
    "Input: nums = [0,0,1,1,0,0,1,1,1,0,1,1,0,0,0,1,1,1,1], k = 3\\\n",
    "Output: 10\\\n",
    "Explanation: [0,0,1,1,**1,1**,1,1,1,**1**,1,1,0,0,0,1,1,1,1]\\\n",
    "Bolded numbers were flipped from 0 to 1."
   ]
  },
  {
   "cell_type": "code",
   "execution_count": 14,
   "id": "43466445-3139-4067-96e5-9768a204aeb9",
   "metadata": {},
   "outputs": [
    {
     "name": "stdout",
     "output_type": "stream",
     "text": [
      "6\n",
      "10\n"
     ]
    }
   ],
   "source": [
    "from typing import List\n",
    "\n",
    "class Solution:\n",
    "    def longestOnes(self, nums: List[int], k: int) -> int:\n",
    "        # Use two pointers, left and right, to represent the current window in the array.\n",
    "        left = 0\n",
    "        # Initialize max_ones to keep track of the maximum length of consecutive 1's.\n",
    "        max_ones = 0\n",
    "        # Initialize zero_count to keep track of the number of 0's in the current window.\n",
    "        zero_count = 0\n",
    "\n",
    "        # Move the right pointer to the right, expanding the window.\n",
    "        for right in range(len(nums)):\n",
    "            # If the element at nums[right] is 0, increment zero_count.\n",
    "            if nums[right] == 0:\n",
    "                zero_count += 1\n",
    "            # If the zero_count exceeds k,  it means there are more than k 0's in the current window.\n",
    "            # shrink the window from the left by moving the left pointer to the right\n",
    "            # until the zero_count is less than or equal to k\n",
    "            while zero_count > k:\n",
    "                if nums[left] == 0:\n",
    "                    zero_count -= 1\n",
    "                left += 1\n",
    "\n",
    "            max_ones = max(max_ones, right - left + 1)\n",
    "\n",
    "        return max_ones\n",
    "\n",
    "solution = Solution()\n",
    "print(solution.longestOnes([1,1,1,0,0,0,1,1,1,1,0], 2))\n",
    "print(solution.longestOnes([0,0,1,1,0,0,1,1,1,0,1,1,0,0,0,1,1,1,1], 3))"
   ]
  },
  {
   "cell_type": "markdown",
   "id": "59e346df-4c6e-4b04-bea8-f8016c153644",
   "metadata": {},
   "source": [
    "### 4. Longest Repeating Character Replacement (Medium leetcode)\n",
    "\n",
    "You are given a string `s` and an integer `k`. You can choose any character of the string and change it to any other uppercase English character. You can perform this operation at most `k` times.\n",
    "\n",
    "*Return the length of the longest substring containing the same letter you can get after performing the above operations*.\n",
    "\n",
    " \n",
    "\n",
    "**Example 1**:\\\n",
    "Input: s = \"ABAB\", k = 2\\\n",
    "Output: 4\\\n",
    "Explanation: Replace the two 'A's with two 'B's or vice versa.\\\n",
    "\n",
    "**Example 2**:\\\n",
    "Input: s = \"AABABBA\", k = 1 \\\n",
    "Output: 4\\\n",
    "Explanation: Replace the one 'A' in the middle with 'B' and form \"AABBBBA\".\\\n",
    "The substring \"BBBB\" has the longest repeating letters, which is 4.\\\n",
    "There may exists other ways to achieve this answer too.\n"
   ]
  },
  {
   "cell_type": "code",
   "execution_count": 22,
   "id": "a9726c16-ac20-4c12-8be5-58879b5552f6",
   "metadata": {},
   "outputs": [
    {
     "name": "stdout",
     "output_type": "stream",
     "text": [
      "4\n",
      "4\n"
     ]
    }
   ],
   "source": [
    "class Solution:\n",
    "    def characterReplacement(self, s: str, k: int) -> int:\n",
    "        left = 0 \n",
    "        max_count = 0\n",
    "        char_count = {}\n",
    "\n",
    "        for right in range(len(s)):\n",
    "            char_count[s[right]] = char_count.get(s[right], 0) + 1\n",
    "            max_count = max(max_count, char_count[s[right]])\n",
    "\n",
    "            # Current window size is right - left + 1\n",
    "            # If the number of characters to change is more than k, shrink the window\n",
    "            if (right - left + 1) - max_count > k:\n",
    "                char_count[s[left]] -= 1\n",
    "                left += 1\n",
    "    \n",
    "        return len(s) - left\n",
    "\n",
    "solution = Solution()\n",
    "print(solution.characterReplacement(\"ABAB\", 2))\n",
    "print(solution.characterReplacement(\"AABABBA\", 1))"
   ]
  },
  {
   "cell_type": "code",
   "execution_count": null,
   "id": "07b1a8b3-0191-46e2-a6e5-bbe33b0fade4",
   "metadata": {},
   "outputs": [],
   "source": []
  }
 ],
 "metadata": {
  "kernelspec": {
   "display_name": "Python 3 (ipykernel)",
   "language": "python",
   "name": "python3"
  },
  "language_info": {
   "codemirror_mode": {
    "name": "ipython",
    "version": 3
   },
   "file_extension": ".py",
   "mimetype": "text/x-python",
   "name": "python",
   "nbconvert_exporter": "python",
   "pygments_lexer": "ipython3",
   "version": "3.12.4"
  }
 },
 "nbformat": 4,
 "nbformat_minor": 5
}
